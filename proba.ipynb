{
 "cells": [
  {
   "cell_type": "markdown",
   "id": "413fd469",
   "metadata": {},
   "source": [
    "1. Investigue como graficar en Python la densidad de la distribución t-student. Hacer una gráfica de la\n",
    "densidad de la distribución t-student con 8 grados de libertad."
   ]
  },
  {
   "cell_type": "code",
   "execution_count": null,
   "id": "b6ad8cb5",
   "metadata": {},
   "outputs": [],
   "source": [
    "# Importar las librerías necesarias\n",
    "import numpy as np\n",
    "import pandas as pd\n",
    "import matplotlib.pyplot as plt\n",
    "from scipy import stats\n",
    "\n",
    "# Datos de tiempos de recorrido en minutos\n",
    "tiempo_recorrido_minutos = np.array([5.5, 2.6, 6.7, 7.8, 8.9, 10.0, 12.1, 3.4, 4.5])\n",
    "val_ideal = 6.0  # Valor ideal de referencia\n",
    "\n",
    "# Calcular la media y la desviación estándar muestral\n",
    "media = np.mean(tiempo_recorrido_minutos)\n",
    "desv_muestral = tiempo_recorrido_minutos.std(ddof=1)\n",
    "\n",
    "# Calcular el estadístico t para la muestra\n",
    "t = (media - val_ideal) / (desv_muestral / np.sqrt(len(tiempo_recorrido_minutos)))\n",
    "\n",
    "# Grados de libertad para la distribución t\n",
    "grados_lib = len(tiempo_recorrido_minutos) - 1\n",
    "\n",
    "# Generar una muestra grande de la distribución t de Student\n",
    "s = np.random.standard_t(grados_lib, size=1000000)\n",
    "\n",
    "# Graficar el histograma de la distribución t simulada\n",
    "h = plt.hist(s, bins=100, density=True, alpha=0.5, color='blue')\n",
    "plt.ylabel('Densidad')\n",
    "plt.xlabel('t')\n",
    "plt.title('Distribución t de Student')\n",
    "\n",
    "# Dibujar una línea vertical en el valor t observado\n",
    "plt.axvline(t, color='red', linestyle='--', label=f't observado = {t:.2f}')\n",
    "plt.legend()\n",
    "plt.show()"
   ]
  },
  {
   "cell_type": "markdown",
   "id": "d26b9f32",
   "metadata": {},
   "source": [
    "2. Sea T una variable aleatoria con distribución t-student con 8 grados de libertad. Buscar el comando en\n",
    "Python que le permita calcular el valor tα/2 tal que P(T > tα/2) = α/2. Calcular tα/2 para α = 0.01 y\n",
    "α = 0.05. Compare con los valores que se encuentran en las tablas del texto guía."
   ]
  },
  {
   "cell_type": "code",
   "execution_count": null,
   "id": "7aea85da",
   "metadata": {},
   "outputs": [],
   "source": [
    "# Definir los niveles de significancia para los intervalos de confianza\n",
    "alpha_1 = 0.05  # Nivel de significancia del 95%\n",
    "alpha_2 = 0.01  # Nivel de significancia del 99%\n",
    "\n",
    "archivo_xlsx = \"datos_uni_ciencias.xlsx\"  # Nombre del archivo Excel con los datos\n",
    "\n",
    "# Leer el archivo Excel y crear un DataFrame (ya realizado previamente)\n",
    "# df_manual = pd.read_excel(archivo_xlsx, engine=\"openpyxl\")\n",
    "\n",
    "columna_edad = \"age\"  # Nombre de la columna con las edades\n",
    "columna = df_manual[columna_edad]  # Obtener la columna de edades como una Serie de pandas\n",
    "\n",
    "n = len(columna)  # Número de datos en la muestra\n",
    "grados_libertad = n - 1  # Grados de libertad para la distribución t\n",
    "print(f\"Cantidad de datos: {n}\")\n",
    "print(f\"Grados de libertad: {grados_libertad}\\n\")\n",
    "\n",
    "# Calcular el valor crítico t_{α/2} para α = 0.05 (intervalo de confianza del 95%)\n",
    "t_critico_005 = stats.t.ppf(1 - alpha_1/2, grados_libertad)  # Dos colas\n",
    "\n",
    "# Calcular el valor crítico t_{α/2} para α = 0.01 (intervalo de confianza del 99%)\n",
    "t_critico_001 = stats.t.ppf(1 - alpha_2/2, grados_libertad)  # Dos colas\n",
    "\n",
    "# Mostrar los valores críticos calculados y los valores de tabla de referencia\n",
    "print(f\"Para α = 0.05 (95% confianza), t_{{α/2}} = {t_critico_005:.4f}\")\n",
    "print(f\"Valor de tabla para α = 0.05 (99% confianza), t_{{α/2}} = 1.960\\n\")\n",
    "print(f\"Para α = 0.01 (99% confianza), t_{{α/2}} = {t_critico_001:.4f}\")\n",
    "print(f\"Valor de tabla para α = 0.01 (99% confianza), t_{{α/2}} = 2.576\")"
   ]
  },
  {
   "cell_type": "markdown",
   "id": "e54b657e",
   "metadata": {},
   "source": [
    "3. Calcule la media y la desviación estándar muestral de la edad de los admitidos."
   ]
  },
  {
   "cell_type": "code",
   "execution_count": null,
   "id": "2f72cdd8",
   "metadata": {},
   "outputs": [],
   "source": [
    "# Calcular la media muestral de la columna de edades\n",
    "media = np.mean(columna)\n",
    "\n",
    "# Calcular la desviación estándar muestral (ddof=1 para muestra, equivalente a STDEV.S en Excel)\n",
    "desv_muestral = np.std(columna, ddof=1)\n",
    "\n",
    "# Imprimir los resultados\n",
    "print(f\"Media muestral: {media:.2f}\")\n",
    "print(f\"Desviación estándar muestral: {desv_muestral:.4f}\")"
   ]
  },
  {
   "cell_type": "markdown",
   "id": "6103c563",
   "metadata": {},
   "source": [
    "4. Calcule el intervalo de confianza del 99 % y 95 % para la media de la edad de admitidos. Suponga que\n",
    "los datos son una muestra aleatoria de una población normal. Interprete sus resultados."
   ]
  },
  {
   "cell_type": "code",
   "execution_count": null,
   "id": "cc9002be",
   "metadata": {},
   "outputs": [],
   "source": [
    "# Definir los niveles de confianza\n",
    "nivel_confianza_1 = 0.95  \n",
    "nivel_confianza_2 = 0.99\n",
    "\n",
    "# Obtener los valores críticos t para cada nivel de confianza\n",
    "t_critico_1 = stats.t.ppf(1 - alpha_1/2, grados_libertad)\n",
    "t_critico_2 = stats.t.ppf(1 - alpha_2/2, grados_libertad)\n",
    "\n",
    "# Calcular el margen de error para cada intervalo de confianza\n",
    "margen_error_1 = t_critico_1 * (desv_muestral / np.sqrt(n))\n",
    "margen_error_2 = t_critico_2 * (desv_muestral / np.sqrt(n))\n",
    "\n",
    "# Calcular los intervalos de confianza\n",
    "intervalo_1 = (media - margen_error_1, media + margen_error_1)\n",
    "intervalo_2 = (media - margen_error_2, media + margen_error_2)\n",
    "\n",
    "# Imprimir los resultados\n",
    "print(f\"Intervalo de confianza al {nivel_confianza_1*100}%: ({intervalo_1[0]:.2f}, {intervalo_1[1]:.2f})\")\n",
    "print(f\"Intervalo de confianza al {nivel_confianza_2*100}%: ({intervalo_2[0]:.2f}, {intervalo_2[1]:.2f})\")"
   ]
  },
  {
   "cell_type": "markdown",
   "id": "70b5741d",
   "metadata": {},
   "source": [
    "**Interpretación de resultados**\n",
    "\n",
    "* Intervalo de confianza al 95%\n",
    "\n",
    "    Con un 95% de confianza, la media poblacional (μ) se encuentra entre 17.78 y 18.43. Esto significa que si repitiéramos el muestreo muchas veces, el 95% de los intervalos construidos de esta manera contendrían la verdadera media poblacional.\n",
    "\n",
    "* Intervalo de confianza al 99%\n",
    "\n",
    "    Con un 99% de confianza, la media poblacional (μ) se encuentra entre 17.67 y 18.53. Este intervalo es más amplio que el del 95%, reflejando una mayor certeza (99%) a costa de menos precisión (rango más grande).\n",
    "\n",
    "* Relación con el 95%\n",
    "\n",
    "    A mayor confianza, más amplio es el intervalo para capturar la media real con mayor seguridad.\n",
    "\n",
    "* Comparación de los Valores Críticos (t)\n",
    "\n",
    "    Los valores críticos tα/2 son consistentes con una distribución t de Student con 444 grados de libertad. \n",
    "    Nota: Hay una discrepancia en los valores reportados para el 99% (2.5869 vs. 2.576). Esto podría deberse a redondeo o fuentes de tablas distintas, pero no afecta la interpretación general."
   ]
  }
 ],
 "metadata": {
  "kernelspec": {
   "display_name": "Python 3",
   "language": "python",
   "name": "python3"
  },
  "language_info": {
   "codemirror_mode": {
    "name": "ipython",
    "version": 3
   },
   "file_extension": ".py",
   "mimetype": "text/x-python",
   "name": "python",
   "nbconvert_exporter": "python",
   "pygments_lexer": "ipython3",
   "version": "3.13.3"
  }
 },
 "nbformat": 4,
 "nbformat_minor": 5
}

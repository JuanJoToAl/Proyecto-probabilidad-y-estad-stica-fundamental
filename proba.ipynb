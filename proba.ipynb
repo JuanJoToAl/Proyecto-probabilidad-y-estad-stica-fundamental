{
 "cells": [
  {
   "cell_type": "markdown",
   "id": "d330b130",
   "metadata": {},
   "source": [
    "# Parte I : Estadística Descriptiva\n",
    "1. Hacer las siguientes gráficas de barras con los valores de los datos: \"puntaje promedio en matemáticas por programa\" , \"número de admitidos en cada programa\". ¿Qué puede decir de las gráficas? Explicar los resultados obtenidos."
   ]
  },
  {
   "cell_type": "code",
   "execution_count": null,
   "id": "05a0e897",
   "metadata": {},
   "outputs": [],
   "source": [
    "# Importa la librería pandas para manipulación y análisis de datos en estructuras tipo DataFrame.\n",
    "import pandas as pd \n",
    "\n",
    "# Importa matplotlib.pyplot para realizar gráficos y visualizaciones de datos.\n",
    "import matplotlib.pyplot as plt\n",
    "\n",
    "# Importa pearsonr de scipy.stats para calcular el coeficiente de correlación de Pearson entre dos variables.\n",
    "from scipy.stats import pearsonr\n",
    "\n",
    "# Importa numpy para operaciones numéricas avanzadas, como el cálculo de percentiles y estadísticas.\n",
    "import numpy as np"
   ]
  },
  {
   "cell_type": "code",
   "execution_count": null,
   "id": "b1f66e54",
   "metadata": {},
   "outputs": [],
   "source": [
    "# Lee los datos desde un archivo Excel y los almacena en un DataFrame llamado 'datos'\n",
    "datos = pd.read_excel(\"datos_uni_ciencias.xlsx\")\n",
    "\n",
    "# Calcula el puntaje promedio en matemáticas agrupado por programa académico y lo ordena de mayor a menor\n",
    "Promedio_mate = datos.groupby('Carrera')['Matemáticas'].mean().sort_values(ascending = False)\n",
    "\n",
    "# Crea una figura para la gráfica de barras\n",
    "plt.figure(figsize=(8, 5))\n",
    "\n",
    "# Grafica el puntaje promedio en matemáticas por programa académico como barras rojas\n",
    "Promedio_mate.plot(kind='bar', color='red')\n",
    "\n",
    "# Añade título y etiquetas a los ejes\n",
    "plt.title('Puntaje promedio en matemáticas por programa académico', fontsize=10)\n",
    "plt.xlabel('Programa académico', fontsize=10)\n",
    "plt.ylabel('Puntaje promedio', fontsize=10)\n",
    "\n",
    "# Rota las etiquetas del eje x para mejor visualización\n",
    "plt.xticks(rotation=45)\n",
    "\n",
    "# Añade una linea horizontal tipo cadena para facilitar la lectura de valores\n",
    "plt.grid(axis='y', linestyle='--', alpha=0.7)\n",
    "\n",
    "# Añade el valor numérico encima de cada barra\n",
    "for i, v in enumerate(Promedio_mate):\n",
    "    plt.text(i, v + 0.1, f'{v:.2f}', ha='center', va='bottom', fontsize=8)\n",
    "\n",
    "# Ajusta el diseño para evitar que se sobrepongan los elementos\n",
    "plt.tight_layout()\n",
    "\n",
    "# Muestra la gráfica\n",
    "plt.show()"
   ]
  },
  {
   "cell_type": "markdown",
   "id": "0c9bc23e",
   "metadata": {},
   "source": [
    "El análisis de los promedios en matemáticas por programa académico dentro del área de ciencias revela diferencias significativas en el desempeño de los estudiantes. Los datos muestran que los estudiantes admitidos en Matemáticas obtienen los puntajes más altos en esta disciplina; mientras que los estudiantes de Farmacia registran los promedios más bajos en matemáticas."
   ]
  },
  {
   "cell_type": "code",
   "execution_count": null,
   "id": "b3ada6c9",
   "metadata": {},
   "outputs": [],
   "source": [
    "# Calcula el número de admitidos en cada programa académico y los ordena de mayor a menor\n",
    "num_admi_programa = datos['Carrera'].value_counts().sort_values(ascending=False)\n",
    "\n",
    "# Crea una figura para la gráfica de barras\n",
    "plt.figure(figsize=(8, 5))\n",
    "\n",
    "# Grafica el número de admitidos por programa académico como barras azules\n",
    "num_admi_programa.plot(kind='bar', color='blue')\n",
    "\n",
    "# Añade título y etiquetas a los ejes\n",
    "plt.title('Número de admitidos por programa académico', fontsize=10)\n",
    "plt.xlabel('Programa académico', fontsize=10)\n",
    "plt.ylabel('Número de admitidos', fontsize=10)\n",
    "\n",
    "# Rota las etiquetas del eje x para mejor visualización\n",
    "plt.xticks(rotation=45)\n",
    "\n",
    "# Añade una línea horizontal tipo cadena para facilitar la lectura de valores\n",
    "plt.grid(axis='y', linestyle='--', alpha=0.7)\n",
    "\n",
    "# Añade el valor numérico encima de cada barra\n",
    "for i, v in enumerate(num_admi_programa):\n",
    "    plt.text(i, v + 0.1, f'{v}', ha='center', va='bottom', fontsize=8)\n",
    "\n",
    "# Ajusta el diseño para evitar que se sobrepongan los elementos\n",
    "plt.tight_layout()\n",
    "\n",
    "# Muestra la gráfica\n",
    "plt.show()"
   ]
  },
  {
   "cell_type": "markdown",
   "id": "40ffba20",
   "metadata": {},
   "source": [
    "El análisis de los datos de admisión por programa académico en el área de ciencias revela una distribución desigual en la cantidad de estudiantes admitidos. Según los resultados, el programa de Física registra el mayor número de admitidos. En contraste, Geología presenta la menor cantidad de estudiantes admitidos.\n"
   ]
  },
  {
   "cell_type": "markdown",
   "id": "14a5a814",
   "metadata": {},
   "source": [
    "2. Calcular el coeficiente de correlación entre el puntaje en matemáticas y el puntaje en sociales para todos los admitidos. Interprete este valor."
   ]
  },
  {
   "cell_type": "code",
   "execution_count": null,
   "id": "9f1e8e60",
   "metadata": {},
   "outputs": [],
   "source": [
    "# Elimina las filas con valores faltantes en las columnas 'Matemáticas' y 'Sociales'\n",
    "datos_clean = datos.dropna(subset=['Matemáticas', 'Sociales'])\n",
    "\n",
    "# Extrae los puntajes de matemáticas y sociales como arreglos de numpy\n",
    "puntaje_mate = datos_clean['Matemáticas'].values\n",
    "puntaje_soci = datos_clean['Sociales'].values\n",
    "\n",
    "# Calcula el coeficiente de correlación de Pearson y el valor p entre los puntajes de matemáticas y sociales\n",
    "coef_correlacion, p_value = pearsonr(puntaje_mate, puntaje_soci)\n",
    "\n",
    "# Imprime el coeficiente de correlación y el valor p\n",
    "print(f\"Coeficiente de correlación entre matemáticas y sociales: {coef_correlacion:.2f}\")\n",
    "print(f\"Valor p: {p_value:.4f}\")\n",
    "\n",
    "# Interpreta la fuerza y dirección de la correlación según el valor obtenido\n",
    "if abs(coef_correlacion) > 0.7:\n",
    "    print(\"Existe una correlación fuerte positiva entre los puntajes en matemáticas y sociales.\") \n",
    "elif 0.1 < abs(coef_correlacion) <= 0.7: \n",
    "    print(\"Existe una correlación debil positiva entre los puntajes en matemáticas y sociales.\")  \n",
    "elif -0.7 <= abs(coef_correlacion) <= -0.1:\n",
    "    print(\"Existe una correlación debil negativa entre los puntajes en matemáticas y sociales.\")\n",
    "elif abs(coef_correlacion) < -0.7:\n",
    "    print(\"Existe una correlación fuerte negativa entre los puntajes en matemáticas y sociales.\")\n",
    "else:\n",
    "    print(\"No existe una correlación significativa entre los puntajes en matemáticas y sociales.\")\n",
    "    "
   ]
  },
  {
   "cell_type": "markdown",
   "id": "cdb80335",
   "metadata": {},
   "source": [
    "Un coeficiente de correlación de 0.24 entre los estudiantes admitidos en 2013 a los programas de Matemáticas y Sociales indica una correlación positiva débil entre las variables analizadas."
   ]
  },
  {
   "cell_type": "markdown",
   "id": "31a02ab4",
   "metadata": {},
   "source": [
    "3. Hacer una gráfica pastel para el origen demográfico de los admitidos. Explique la gráfica."
   ]
  },
  {
   "cell_type": "code",
   "execution_count": null,
   "id": "d0d6daf7",
   "metadata": {},
   "outputs": [],
   "source": [
    "# Cuenta la cantidad de admitidos por cada origen demográfico\n",
    "orig_demo = datos['Origen'].value_counts()\n",
    "\n",
    "# Crea una figura para la gráfica de pastel\n",
    "plt.figure(figsize=(5, 5))\n",
    "\n",
    "# Grafica la distribución de origen demográfico como un gráfico de pastel\n",
    "orig_demo.plot(\n",
    "    kind='pie',                # Tipo de gráfico: pastel\n",
    "    autopct='%1.1f%%',         # Muestra el porcentaje con un decimal\n",
    "    startangle=90,             # Inicia el gráfico desde el ángulo de 90 grados\n",
    "    colors=[\"#ab2222\",\"#093f75\",\"#077707\"],  # Colores personalizados para cada segmento\n",
    "    shadow=True                # Añade sombra para mejor visualización\n",
    ")\n",
    "\n",
    "# Añade título a la gráfica\n",
    "plt.title('Origen demográfico de los admitidos', fontsize=10)\n",
    "\n",
    "# Elimina la etiqueta del eje y para una mejor presentación\n",
    "plt.ylabel('')\n",
    "\n",
    "# Asegura que el gráfico sea un círculo perfecto\n",
    "plt.axis('equal')\n",
    "\n",
    "# Muestra la gráfica\n",
    "plt.show()"
   ]
  },
  {
   "cell_type": "markdown",
   "id": "91b14814",
   "metadata": {},
   "source": [
    "El gráfico evidencia una marcada centralización en el origen demográfico de los estudiantes admitidos al área de Ciencias de la Universidad Nacional en 2013, donde Bogotá concentra el 69.9% de los admitidos, frente a solo 8.5% de Cundinamarca (excluyendo Bogotá) y 21.6% de otros departamentos. Esta distribución refleja una desigualdad regional significativa, sugiriendo que factores como el acceso a educación de calidad o recursos para preparación de pruebas de admisión, favorecen desproporcionadamente a la capital."
   ]
  },
  {
   "cell_type": "markdown",
   "id": "e45332e1",
   "metadata": {},
   "source": [
    "4. Hacer una gráfica de caja con límites y datos atípicos del puntaje total del examen de admisión. Imprimir\n",
    " cada uno de las mediciones numéricas que se representan en la gráfica y explicar qué significan en el\n",
    " contexto de los datos. Hacer un análisis completo de la gráfica."
   ]
  },
  {
   "cell_type": "code",
   "execution_count": null,
   "id": "41521e23",
   "metadata": {},
   "outputs": [],
   "source": [
    "# Extrae los puntajes totales del examen, eliminando valores faltantes o nulos\n",
    "puntajes = datos['N. Examen'].dropna().values\n",
    "\n",
    "# Calcula el primer cuartil (Q1) y el tercer cuartil (Q3)\n",
    "Q1 = np.percentile(puntajes, 25)\n",
    "Q3 = np.percentile(puntajes, 75)\n",
    "\n",
    "# Calcula el rango intercuartil (IQR)\n",
    "IQR = Q3 - Q1\n",
    "\n",
    "# Determina los límites inferior y superior para identificar datos atípicos\n",
    "limite_inferior = Q1 - 1.5 * IQR\n",
    "limite_superior = Q3 + 1.5 * IQR\n",
    "\n",
    "# Identifica los datos atípicos inferiores y superiores\n",
    "atip_infers = puntajes[puntajes < limite_inferior]\n",
    "atip_supers = puntajes[puntajes > limite_superior]\n",
    "\n",
    "# Crea la figura para la gráfica de caja\n",
    "plt.figure(figsize=(8, 5))\n",
    "\n",
    "# Genera la gráfica de caja (boxplot) de los puntajes\n",
    "boxplot = plt.boxplot(puntajes, vert=False, patch_artist=True)\n",
    "\n",
    "# Añade título y etiquetas\n",
    "plt.title('Gráfica de caja con límites y datos atípicos del puntaje total del examen de admisión', fontsize=10)\n",
    "plt.ylabel('Puntaje total', fontsize=10)\n",
    "\n",
    "# Añade una cuadrícula horizontal para facilitar la lectura\n",
    "plt.grid(axis='y', linestyle='--', alpha=0.7)\n",
    "# Dibuja una línea vertical en el límite inferior de los datos atípicos\n",
    "plt.axvline(limite_inferior, color='purple', linestyle='--', label=f'Límite inferior ({limite_inferior:.2f})')\n",
    "# Dibuja una línea vertical en el límite superior de los datos atípicos\n",
    "plt.axvline(limite_superior, color='orange', linestyle='--', label=f'Límite superior ({limite_superior:.2f})')\n",
    "\n",
    "# Añade texto indicando el valor del límite inferior\n",
    "plt.text(limite_inferior, 1.1, f'Mín: {limite_inferior:.2f}', color='blue', fontsize=10, ha='center')\n",
    "# Añade texto indicando el valor del límite superior\n",
    "plt.text(limite_superior, 1.1, f'Máx: {limite_superior:.2f}', color='blue', fontsize=10, ha='center')\n",
    "\n",
    "# Prepara el texto informativo sobre los datos atípicos\n",
    "info_text = f\"Datos atípicos inferiores: {len(atip_infers)}\\nDatos atípicos superiores: {len(atip_supers)}\\nTotal de datos atípicos: {len(atip_infers) + len(atip_supers)}\"\n",
    "# Muestra la leyenda en la esquina superior derecha\n",
    "plt.legend(loc='upper right', fontsize=8)\n",
    "\n",
    "# Personaliza el color de la caja\n",
    "for box in boxplot['boxes']:\n",
    "    box.set(facecolor='lightblue', edgecolor='black', linewidth=1.5)\n",
    "\n",
    "# Personaliza el color y estilo de los datos atípicos\n",
    "for flier in boxplot['fliers']:\n",
    "    flier.set(marker='*', color='red', alpha=0.5, markersize=10)\n",
    "\n",
    "# Ajusta el diseño para evitar sobreposición\n",
    "plt.tight_layout()\n",
    "\n",
    "# Muestra la gráfica\n",
    "plt.show()\n",
    "\n",
    "# Imprime las estadísticas descriptivas relevantes\n",
    "print(\"Estadisticas descriptivas del puntaje total del examen de admisión: \")\n",
    "print(f\"- Minimo: {puntajes.min()}\")\n",
    "print(f\"- Primer cuartil (Q1): {Q1}\")\n",
    "print(f\"- Mediana (Q2): {np.median(puntajes)}\")\n",
    "print(f\"- Tercer cuartil (Q3): {Q3}\")\n",
    "print(f\"- Maximo: {puntajes.max()}\")\n",
    "print(f\"- Rango intercuartil (IQR): {IQR}\")\n",
    "print(f\"- Limite inferior: {limite_inferior}\")\n",
    "print(f\"- Limite superior: {limite_superior}\")\n",
    "print(f\"- Datos atípicos inferiores: {len(atip_infers)}\")\n",
    "print(f\"- Datos atípicos superiores: {len(atip_supers)}\")\n",
    "print(f\"- Total de datos atipicos: {len(atip_infers) + len(atip_supers)}\")"
   ]
  },
  {
   "cell_type": "markdown",
   "id": "2bfb081e",
   "metadata": {},
   "source": [
    "Los resultados muestran una distribución con una mediana de 710.26 puntos (linea continua amarilla), donde el 50% central de los estudiantes obtuvo puntajes entre 666.79 (Q1) y 761.28 (Q3), indicando una concentración moderada alrededor de la media. El rango intercuartílico (IQR) de 94.49 sugiere una dispersión relativamente controlada en la mayoría de los datos, aunque el rango total es amplio (477.32 a 1,151.04), revelando una brecha significativa entre los extremos. La presencia de 18 valores atípicos (7 inferiores y 11 superiores, ambos mostrados como estrellas) destaca casos excepcionales: los inferiores (<525.05) podrían reflejar dificultades académicas previas, mientras que los superiores (>903.02) corresponden a desempeños sobresalientes. La ligera asimetría positiva (cola más larga hacia puntajes altos) sugiere que, aunque la mayoría se agrupa en el rango medio, existe un grupo pequeño pero notable de estudiantes con habilidades excepcionales."
   ]
  },
  {
   "cell_type": "markdown",
   "id": "413fd469",
   "metadata": {},
   "source": [
    "# Parte II: Inferencia Estadística\n",
    "1. Investigue como graficar en Python la densidad de la distribución t-student. Hacer una gráfica de la\n",
    "densidad de la distribución t-student con 8 grados de libertad."
   ]
  },
  {
   "cell_type": "code",
   "execution_count": null,
   "id": "29d746ff",
   "metadata": {},
   "outputs": [],
   "source": [
    "# Importa las librerías necesarias para cálculos numéricos, gráficos y estadísticas\n",
    "import numpy as np\n",
    "import matplotlib.pyplot as plt\n",
    "import pandas as pd\n",
    "from scipy import stats\n",
    "\n",
    "# Define los grados de libertad para la distribución t-Student\n",
    "grados_lib = 8  \n",
    "\n",
    "# Crea un rango de valores t para graficar la función de densidad de probabilidad (PDF)\n",
    "t_values = np.linspace(-4, 4, 500)  # Rango típico para la distribución t\n",
    "\n",
    "# Calcula la función de densidad de probabilidad (PDF) para cada valor t\n",
    "pdf = stats.t.pdf(t_values, df=grados_lib)  # Función de densidad\n",
    "\n",
    "# Crea la figura para la gráfica\n",
    "plt.figure(figsize=(8, 5))\n",
    "\n",
    "# Grafica la PDF de la distribución t-Student\n",
    "plt.plot(t_values, pdf, 'b-', lw=2, label=f't-Student (df={grados_lib})')\n",
    "\n",
    "# Rellena el área bajo la curva para mejor visualización\n",
    "plt.fill_between(t_values, pdf, color='blue', alpha=0.1)  \n",
    "\n",
    "# Añade título y etiquetas a los ejes\n",
    "plt.title('Función de Densidad de la Distribución t-Student (8 grados de libertad)')\n",
    "plt.xlabel('Valores t')\n",
    "plt.ylabel('Densidad de Probabilidad')\n",
    "\n",
    "# Añade una cuadrícula para facilitar la lectura\n",
    "plt.grid(True, linestyle='--', alpha=0.7)\n",
    "\n",
    "# Muestra la leyenda\n",
    "plt.legend()\n",
    "\n",
    "# Muestra la gráfica\n",
    "plt.show()"
   ]
  },
  {
   "cell_type": "markdown",
   "id": "d26b9f32",
   "metadata": {},
   "source": [
    "2. Sea T una variable aleatoria con distribución t-student con 8 grados de libertad. Buscar el comando en\n",
    "Python que le permita calcular el valor tα/2 tal que P(T > tα/2) = α/2. Calcular tα/2 para α = 0.01 y\n",
    "α = 0.05. Compare con los valores que se encuentran en las tablas del texto guía."
   ]
  },
  {
   "cell_type": "code",
   "execution_count": 1,
   "id": "7aea85da",
   "metadata": {},
   "outputs": [
    {
     "ename": "NameError",
     "evalue": "name 'stats' is not defined",
     "output_type": "error",
     "traceback": [
      "\u001b[31m---------------------------------------------------------------------------\u001b[39m",
      "\u001b[31mNameError\u001b[39m                                 Traceback (most recent call last)",
      "\u001b[36mCell\u001b[39m\u001b[36m \u001b[39m\u001b[32mIn[1]\u001b[39m\u001b[32m, line 6\u001b[39m\n\u001b[32m      3\u001b[39m alpha_2 = \u001b[32m0.01\u001b[39m  \u001b[38;5;66;03m# Nivel de significancia para un 99% de confianza (α = 0.01)\u001b[39;00m\n\u001b[32m      5\u001b[39m \u001b[38;5;66;03m# Calcular los valores críticos t para cada nivel de significancia usando 8 grados de libertad\u001b[39;00m\n\u001b[32m----> \u001b[39m\u001b[32m6\u001b[39m t_critico_005 = \u001b[43mstats\u001b[49m.t.ppf(\u001b[32m1\u001b[39m - alpha_1/\u001b[32m2\u001b[39m, grados_lib)  \u001b[38;5;66;03m# Valor crítico para α = 0.05 (dos colas)\u001b[39;00m\n\u001b[32m      7\u001b[39m t_critico_001 = stats.t.ppf(\u001b[32m1\u001b[39m - alpha_2/\u001b[32m2\u001b[39m, grados_lib)  \u001b[38;5;66;03m# Valor crítico para α = 0.01 (dos colas)\u001b[39;00m\n\u001b[32m      9\u001b[39m \u001b[38;5;66;03m# Mostrar los resultados obtenidos y compararlos con los valores de referencia de tablas estadísticas\u001b[39;00m\n",
      "\u001b[31mNameError\u001b[39m: name 'stats' is not defined"
     ]
    }
   ],
   "source": [
    "# Definir niveles de significancia para los intervalos de confianza\n",
    "alpha_1 = 0.05  # Nivel de significancia para un 95% de confianza (α = 0.05)\n",
    "alpha_2 = 0.01  # Nivel de significancia para un 99% de confianza (α = 0.01)\n",
    "\n",
    "# Calcular los valores críticos t para cada nivel de significancia usando 8 grados de libertad\n",
    "t_critico_005 = stats.t.ppf(1 - alpha_1/2, grados_lib)  # Valor crítico para α = 0.05 (dos colas)\n",
    "t_critico_001 = stats.t.ppf(1 - alpha_2/2, grados_lib)  # Valor crítico para α = 0.01 (dos colas)\n",
    "\n",
    "# Mostrar los resultados obtenidos y compararlos con los valores de referencia de tablas estadísticas\n",
    "print(\"\\nResultados para distribución t-Student con 8 grados de libertad:\")\n",
    "print(f\"Para α = 0.05 (95% confianza), t_{{α/2}} = {t_critico_005:.4f}\")\n",
    "print(f\"Valor de referencia en tablas: 2.306 (para t-Student con 8 gl)\\n\")\n",
    "\n",
    "print(f\"Para α = 0.01 (99% confianza), t_{{α/2}} = {t_critico_001:.4f}\")\n",
    "print(f\"Valor de referencia en tablas: 3.355 (para t-Student con 8 gl)\\n\")\n",
    "\n",
    "# Comparación adicional con los valores críticos de la distribución normal estándar (Z)\n",
    "print(\"Comparación con distribución normal estándar:\")\n",
    "print(f\"Valor normal estándar para 95% confianza: 1.960\")\n",
    "print(f\"Valor normal estándar para 99% confianza: 2.576\")"
   ]
  },
  {
   "cell_type": "markdown",
   "id": "e54b657e",
   "metadata": {},
   "source": [
    "3. Calcule la media y la desviación estándar muestral de la edad de los admitidos."
   ]
  },
  {
   "cell_type": "code",
   "execution_count": null,
   "id": "2f72cdd8",
   "metadata": {},
   "outputs": [],
   "source": [
    "# Calcular la media muestral de la columna de edades\n",
    "media = np.mean(columna)\n",
    "\n",
    "# Calcular la desviación estándar muestral (ddof=1 para muestra, equivalente a STDEV.S en Excel)\n",
    "desv_muestral = np.std(columna, ddof=1)\n",
    "\n",
    "# Imprimir los resultados\n",
    "print(f\"Media muestral: {media:.2f}\")\n",
    "print(f\"Desviación estándar muestral: {desv_muestral:.4f}\")"
   ]
  },
  {
   "cell_type": "markdown",
   "id": "6103c563",
   "metadata": {},
   "source": [
    "4. Calcule el intervalo de confianza del 99 % y 95 % para la media de la edad de admitidos. Suponga que\n",
    "los datos son una muestra aleatoria de una población normal. Interprete sus resultados."
   ]
  },
  {
   "cell_type": "code",
   "execution_count": null,
   "id": "cc9002be",
   "metadata": {},
   "outputs": [],
   "source": [
    "# Definir los niveles de confianza\n",
    "nivel_confianza_1 = 0.95  \n",
    "nivel_confianza_2 = 0.99\n",
    "\n",
    "# Obtener los valores críticos t para cada nivel de confianza\n",
    "t_critico_1 = stats.t.ppf(1 - alpha_1/2, grados_libertad)\n",
    "t_critico_2 = stats.t.ppf(1 - alpha_2/2, grados_libertad)\n",
    "\n",
    "# Calcular el margen de error para cada intervalo de confianza\n",
    "margen_error_1 = t_critico_1 * (desv_muestral / np.sqrt(n))\n",
    "margen_error_2 = t_critico_2 * (desv_muestral / np.sqrt(n))\n",
    "\n",
    "# Calcular los intervalos de confianza\n",
    "intervalo_1 = (media - margen_error_1, media + margen_error_1)\n",
    "intervalo_2 = (media - margen_error_2, media + margen_error_2)\n",
    "\n",
    "# Imprimir los resultados\n",
    "print(f\"Intervalo de confianza al {nivel_confianza_1*100}%: ({intervalo_1[0]:.2f}, {intervalo_1[1]:.2f})\")\n",
    "print(f\"Intervalo de confianza al {nivel_confianza_2*100}%: ({intervalo_2[0]:.2f}, {intervalo_2[1]:.2f})\")"
   ]
  },
  {
   "cell_type": "markdown",
   "id": "70b5741d",
   "metadata": {},
   "source": [
    "**Interpretación de resultados**\n",
    "\n",
    "* Intervalo de confianza al 95%\n",
    "\n",
    "    Con un 95% de confianza, la media poblacional (μ) se encuentra entre 17.78 y 18.43. Esto significa que si repitiéramos el muestreo muchas veces, el 95% de los intervalos construidos de esta manera contendrían la verdadera media poblacional.\n",
    "\n",
    "* Intervalo de confianza al 99%\n",
    "\n",
    "    Con un 99% de confianza, la media poblacional (μ) se encuentra entre 17.67 y 18.53. Este intervalo es más amplio que el del 95%, reflejando una mayor certeza (99%) a costa de menos precisión (rango más grande).\n",
    "\n",
    "* Relación con el 95%\n",
    "\n",
    "    A mayor confianza, más amplio es el intervalo para capturar la media real con mayor seguridad.\n",
    "\n",
    "* Comparación de los Valores Críticos (t)\n",
    "\n",
    "    Los valores críticos tα/2 son consistentes con una distribución t de Student con 444 grados de libertad. \n",
    "    Nota: Hay una discrepancia en los valores reportados para el 99% (2.5869 vs. 2.576). Esto podría deberse a redondeo o fuentes de tablas distintas, pero no afecta la interpretación general."
   ]
  },
  {
   "cell_type": "markdown",
   "id": "406ff7b5",
   "metadata": {},
   "source": [
    "# 3. Parte III: Pruebas de hipótesis\n",
    "Se desea evaluar si la proporción de mujeres admitidas a la Facultad de Ciencias en el 2013-I es mayor\n",
    "que 0.5. Para ello realice una prueba de hipótesis con un nivel de significancia del 0.01. ¿Qué puede decir\n",
    "para niveles de significancia más pequeños?\n",
    "\n",
    "* Plantee la hipótesis nula y alternativa <br>\n",
    "\n",
    "\t$H_0$ : proporcion de mujeres admitidas igual a 0.5 (p = 0.5) <br>\n",
    "\t$H_1$ : proporcion de mujeres admitidas mayor a 0.5 (p > 0.5)\n",
    "\n",
    "* Determine el estadístico de prueba adecuado y su distribución. <br>\n",
    "\n",
    "\tAl tratarse de una proporción, su estimación se relaciona con una distribución binomial para la poblacion estudiada, sin embargo, dado que el tamaño de la muestra es superior a 30 y guiándonos del Teorema del límite central (TLC), podemos afirmar que se trata de una distribucion normal con un estadistico de prueba Z:\n",
    "\n",
    "<div>\n",
    "<center>\n",
    "\n",
    "### $z=\\frac{x-nP_0}{\\sqrt{np_0(1-p_0)}}$ \n",
    "\n",
    "</center>\n",
    "</div>\n",
    "\n",
    "Donde: \n",
    "α = 0.01, $p_0$ = 0.5, n = 445"
   ]
  },
  {
   "cell_type": "code",
   "execution_count": null,
   "id": "e480e1ac",
   "metadata": {},
   "outputs": [],
   "source": [
    "columna_genero = \"Genero\"  # Nombre de la columna con los géneros\n",
    "columna_genero = datos[columna_genero]  # Obtener la columna de géneros\n",
    "# Contar la cantidad de mujeres en la columna de géneros\n",
    "x = (columna_genero == 'F').sum()  # Asumiendo que 'F' representa mujeres\n",
    "print(f\"Cantidad de mujeres (x): {x}\")\n"
   ]
  },
  {
   "cell_type": "markdown",
   "id": "16b7bc6e",
   "metadata": {},
   "source": [
    "x(cantidad de aciertos)= 128 <br>\n",
    "\n",
    "Ahora bien, para determinar la región de rechazo para el estimador, basado en la hipótesis alternativa podemos establecer que se vera de la siguiente manera:\n",
    "\n",
    "<div>\n",
    "<center>\n",
    "\n",
    "$RR = ${$Z > Z_α$}\n",
    "\n",
    "</center>\n",
    "</div>\n",
    "\n",
    "Y considerando el nivel de significancia 0.01, buscándolo en la tabla de la distrubicion normal N(0,1) encontramos que el valor para $Z_0.01$ es 2.33\n",
    "\n",
    "<div>\n",
    "<center>\n",
    "\n",
    "$RR = ${$Z > 2.33$}\n",
    "\n",
    "</center>\n",
    "</div>\n",
    "\n",
    "Así que, reemplazando en la formula tenemos:\n",
    "\n",
    "<div>\n",
    "<center>\n",
    "\n",
    "### $z = \\frac{128-445 * 0.5}{\\sqrt{445*0.5*(1-0.5)}}$\n",
    "\n",
    "</center>\n",
    "</div>"
   ]
  },
  {
   "cell_type": "code",
   "execution_count": null,
   "id": "f648233c",
   "metadata": {},
   "outputs": [],
   "source": [
    "z = (128-445*0.5)/(445*0.5*0.5)**(1/2)\n",
    "print(f\"Valor de z: {z:.4f}\")"
   ]
  },
  {
   "cell_type": "code",
   "execution_count": null,
   "id": "4ea14ce4",
   "metadata": {},
   "outputs": [],
   "source": [
    "normal = stats.norm(0, 1)  # Distribución normal estándar\n",
    "z_value = z  # Valor de z calculado anteriormente \n",
    "print(f\"Valor de z: {z_value:.4f}\")\n",
    "# Calcular el valor p asociado al valor z\n",
    "p_value = 1 - normal.cdf(z_value)  # Área a la derecha de\n",
    "print(f\"Valor p: {p_value:.4f}\")"
   ]
  }
 ],
 "metadata": {
  "kernelspec": {
   "display_name": "Python 3",
   "language": "python",
   "name": "python3"
  },
  "language_info": {
   "codemirror_mode": {
    "name": "ipython",
    "version": 3
   },
   "file_extension": ".py",
   "mimetype": "text/x-python",
   "name": "python",
   "nbconvert_exporter": "python",
   "pygments_lexer": "ipython3",
   "version": "3.13.3"
  }
 },
 "nbformat": 4,
 "nbformat_minor": 5
}
